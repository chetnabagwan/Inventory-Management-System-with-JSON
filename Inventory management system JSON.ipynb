{
 "cells": [
  {
   "cell_type": "code",
   "execution_count": 13,
   "id": "6d9dfaca-4c87-4edb-a7a0-bfd8c9111dfc",
   "metadata": {},
   "outputs": [
    {
     "name": "stdout",
     "output_type": "stream",
     "text": [
      "-------------MENU--------------\n",
      "\n",
      "1001 : 5 Star \t| 10 \t| 198\n",
      "1002 : Bar-One \t| 20 \t| 50\n",
      "1003 : Candy \t| 2 \t| 950\n",
      "1004 : Chocolate cake \t| 550 \t| 0\n",
      "1005 : Blueberry cake \t| 650 \t| 5\n",
      "--------------------------------\n",
      "\n"
     ]
    },
    {
     "name": "stdin",
     "output_type": "stream",
     "text": [
      "Enter your Name :  chetna\n",
      "Enter your email id :  abc@gmail.com\n",
      "Enter your Phone No :  2323454678\n",
      "Enter Product Id :  1003\n",
      "Enter Quantity :  20\n"
     ]
    },
    {
     "name": "stdout",
     "output_type": "stream",
     "text": [
      "----------------------------------\n",
      "              BILL               \n",
      "\n",
      "Name                :  Candy\n",
      "Price               :  2 Rs\n",
      "Quantity            :  20\n",
      "-----------------------------------\n",
      "Billing Amount      :  40 Rs\n",
      "-----------------------------------\n"
     ]
    }
   ],
   "source": [
    "import json\n",
    "import time\n",
    "\n",
    "sale='' \n",
    "\n",
    "fd=open(\"records.json\",'r')\n",
    "js=fd.read()\n",
    "fd.close()\n",
    "\n",
    "# converting the JSONstring records into dictionary \n",
    "record=json.loads(js)\n",
    "\n",
    "print(\"-------------MENU--------------\\n\")\n",
    "for key in record.keys():\n",
    "    print(key,\":\",record[key]['Name'],'\\t|',record[key][\"Price\"],'\\t|',record[key][\"Qn\"])\n",
    "    \n",
    "print(\"--------------------------------\\n\")\n",
    "\n",
    "ui_name =str(input(\"Enter your Name : \"))\n",
    "ui_email=str(input(\"Enter your email id : \"))\n",
    "ui_ph=str(input(\"Enter your Phone No : \"))\n",
    "ui_pr=str(input(\"Enter Product Id : \"))\n",
    "ui_qn=int(input(\"Enter Quantity : \"))\n",
    "\n",
    "if (record[ui_pr]['Qn']>=ui_qn):\n",
    "    record[ui_pr]['Qn']= record[ui_pr]['Qn']-ui_qn\n",
    "\n",
    "    print(\"----------------------------------\")\n",
    "    print(\"              BILL               \\n\")\n",
    "\n",
    "    print(\"Name                : \",record[ui_pr][\"Name\"])\n",
    "    print(\"Price               : \",record[ui_pr][\"Price\"] , \"Rs\")\n",
    "    print(\"Quantity            : \",ui_qn)\n",
    "\n",
    "    print(\"-----------------------------------\")\n",
    "    print(\"Billing Amount      : \",record[ui_pr][\"Price\"]*ui_qn,\"Rs\")\n",
    "    print(\"-----------------------------------\")\n",
    "    sale = ui_name+\",\"+ui_email+\",\"+ui_ph +\",\"+ui_pr +\",\"+record[ui_pr][\"Name\"] +\",\"+ str(ui_qn) + \",\"+str(record[ui_pr][\"Price\"])+\",\"+str(ui_qn*record[ui_pr][\"Price\"])+\",\"+time.ctime()\n",
    "else:\n",
    "    print(\"Sorry we dont have enough quantity in our inventory.\")\n",
    "    print(\"We only have \",record[ui_pr]['Qn'],)\n",
    "    print(\"-----------------------------------------------------\")\n",
    "    ch=str(input(\"Press Y/y to purchase : \"))\n",
    "    if(ch=='Y' or ch=='y'):\n",
    "        print(\"----------------------------------\")\n",
    "        print(\"              BILL               \\n\")\n",
    "\n",
    "        print(\"Name                : \",record[ui_pr][\"Name\"])\n",
    "        print(\"Price               : \",record[ui_pr][\"Price\"] , \"Rs\")\n",
    "        print(\"Quantity            : \",record[ui_pr]['Qn'])\n",
    "\n",
    "        print(\"-----------------------------------\")\n",
    "        print(\"Billing Amount      : \",record[ui_pr][\"Price\"]*record[ui_pr]['Qn'],\"Rs\")\n",
    "        print(\"-----------------------------------\")\n",
    "       \n",
    "        sale = ui_name+\",\"+ui_email+\",\"+ui_ph +\",\"+ui_pr +\",\"+record[ui_pr][\"Name\"]\n",
    "        +\",\"+str(record[ui_pr]['Qn'])+\",\"+str(record[ui_pr][\"Price\"])+\",\"+str(record[ui_pr]['Qn']*record[ui_pr][\"Price\"])+\",\"+time.ctime()\n",
    "        \n",
    "        record[ui_pr]['Qn']=0\n",
    "    else:\n",
    "        print(\"Thankyou!\")\n",
    "        \n",
    "#converting dictionary to JSON string \n",
    "js=json.dumps(record)\n",
    "\n",
    "fd=open(\"records.json\",'w')\n",
    "fd.write(js)\n",
    "fd.close()\n",
    "\n",
    "fd=open(\"sales.txt\",'w')\n",
    "fd.write(sale)\n",
    "fd.close()\n",
    "   \n"
   ]
  },
  {
   "cell_type": "code",
   "execution_count": null,
   "id": "af9245d0-0d18-48b9-9d5a-bbca36105182",
   "metadata": {},
   "outputs": [],
   "source": []
  },
  {
   "cell_type": "code",
   "execution_count": null,
   "id": "ad6eae8a-7e2f-46b4-b902-7d4e48da58d5",
   "metadata": {},
   "outputs": [],
   "source": []
  }
 ],
 "metadata": {
  "kernelspec": {
   "display_name": "Python 3 (ipykernel)",
   "language": "python",
   "name": "python3"
  },
  "language_info": {
   "codemirror_mode": {
    "name": "ipython",
    "version": 3
   },
   "file_extension": ".py",
   "mimetype": "text/x-python",
   "name": "python",
   "nbconvert_exporter": "python",
   "pygments_lexer": "ipython3",
   "version": "3.9.12"
  }
 },
 "nbformat": 4,
 "nbformat_minor": 5
}
